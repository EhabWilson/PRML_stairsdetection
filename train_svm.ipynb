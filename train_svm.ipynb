{
 "cells": [
  {
   "cell_type": "code",
   "execution_count": 1,
   "metadata": {},
   "outputs": [],
   "source": [
    "import os\n",
    "import json\n",
    "from PIL import Image\n",
    "from sklearn import svm\n",
    "from sklearn.metrics import confusion_matrix, accuracy_score\n",
    "import numpy as np\n",
    "from datetime import datetime"
   ]
  },
  {
   "attachments": {},
   "cell_type": "markdown",
   "metadata": {},
   "source": [
    "### Load Data"
   ]
  },
  {
   "cell_type": "code",
   "execution_count": 2,
   "metadata": {},
   "outputs": [],
   "source": [
    "def transform(img_path):\n",
    "    img = Image.open(img_path)\n",
    "    img = img.convert('L')\n",
    "    img = img.resize((224, 224))\n",
    "    return img\n",
    "\n",
    "def load_data(json_file, data_dir):\n",
    "    print(f\"loading data from {str(data_dir)}({json_file})\")\n",
    "    imgs = []\n",
    "    labels = []\n",
    "    begin = datetime.now()\n",
    "    with open(json_file, 'r') as f:\n",
    "        raw_data = json.load(f)\n",
    "        for data in raw_data:\n",
    "            imgs.append(os.path.join(data_dir, data['dir']))\n",
    "            labels.append(data['label'])\n",
    "    # images to array\n",
    "    images = [transform(img) for img in imgs]\n",
    "    images = [np.array(image).reshape(-1) / 255 - 0.5 for image in images]    # zero mean\n",
    "    print('Time costs {}s'.format((datetime.now() - begin).seconds))\n",
    "    return np.array(images), np.array(labels)"
   ]
  },
  {
   "cell_type": "code",
   "execution_count": 3,
   "metadata": {},
   "outputs": [
    {
     "name": "stdout",
     "output_type": "stream",
     "text": [
      "loading data from ../dataset/public(data/public_train.json)\n",
      "Time costs 191s\n",
      "loading data from ../dataset/public(data/public_valid.json)\n",
      "Time costs 23s\n",
      "loading data from ../dataset/public(data/public_test.json)\n",
      "Time costs 47s\n"
     ]
    }
   ],
   "source": [
    "data_dir = os.path.join('..', 'dataset', 'public')\n",
    "train_json = os.path.join('data', 'public_train.json')\n",
    "valid_json = os.path.join('data', 'public_valid.json')\n",
    "test_json = os.path.join('data', 'public_test.json')\n",
    "imgs_train, labels_train = load_data(train_json, data_dir)\n",
    "imgs_valid, labels_valid = load_data(valid_json, data_dir)\n",
    "imgs_test, labels_test = load_data(test_json, data_dir)"
   ]
  },
  {
   "cell_type": "code",
   "execution_count": 4,
   "metadata": {},
   "outputs": [
    {
     "name": "stdout",
     "output_type": "stream",
     "text": [
      "(1249, 50176)\n",
      "(1249,)\n"
     ]
    }
   ],
   "source": [
    "train_data = np.concatenate((imgs_train, imgs_valid))\n",
    "train_labels = np.concatenate((labels_train, labels_valid))\n",
    "print(train_data.shape)\n",
    "print(train_labels.shape)"
   ]
  },
  {
   "attachments": {},
   "cell_type": "markdown",
   "metadata": {},
   "source": [
    "### SVM classfication"
   ]
  },
  {
   "cell_type": "code",
   "execution_count": 5,
   "metadata": {},
   "outputs": [
    {
     "name": "stdout",
     "output_type": "stream",
     "text": [
      "kernel: rbf    C: 0.1    Train acc: 0.8647    Test acc: 0.8776\n",
      "kernel: rbf    C: 0.5    Train acc: 0.8663    Test acc: 0.8776\n",
      "kernel: rbf    C: 1    Train acc: 0.8951    Test acc: 0.8776\n",
      "kernel: rbf    C: 2    Train acc: 0.9512    Test acc: 0.8844\n",
      "kernel: rbf    C: 10    Train acc: 1    Test acc: 0.8878\n",
      "kernel: poly    C: 0.1    Train acc: 0.8751    Test acc: 0.8776\n",
      "kernel: poly    C: 0.5    Train acc: 0.9047    Test acc: 0.8673\n",
      "kernel: poly    C: 1    Train acc: 0.9223    Test acc: 0.8673\n",
      "kernel: poly    C: 2    Train acc: 0.9424    Test acc: 0.8707\n",
      "kernel: poly    C: 10    Train acc: 0.9792    Test acc: 0.8571\n",
      "kernel: linear    C: 0.1    Train acc: 0.9992    Test acc: 0.6667\n",
      "kernel: linear    C: 0.5    Train acc: 0.9992    Test acc: 0.6531\n",
      "kernel: linear    C: 1    Train acc: 1    Test acc: 0.6599\n",
      "kernel: linear    C: 2    Train acc: 1    Test acc: 0.6293\n",
      "kernel: linear    C: 10    Train acc: 1    Test acc: 0.6224\n",
      "kernel: sigmoid    C: 0.1    Train acc: 0.8631    Test acc: 0.8776\n",
      "kernel: sigmoid    C: 0.5    Train acc: 0.8407    Test acc: 0.8503\n",
      "kernel: sigmoid    C: 1    Train acc: 0.8167    Test acc: 0.8503\n",
      "kernel: sigmoid    C: 2    Train acc: 0.7934    Test acc: 0.8265\n",
      "kernel: sigmoid    C: 10    Train acc: 0.7774    Test acc: 0.7857\n"
     ]
    }
   ],
   "source": [
    "best_model = None\n",
    "best_acc = 0.\n",
    "\n",
    "kernels = ['rbf', 'poly', 'linear', 'sigmoid']\n",
    "C_values = [0.1, 0.5, 1, 2, 10]\n",
    "\n",
    "for kernel in kernels:\n",
    "    for C in C_values:\n",
    "\n",
    "        model = svm.SVC(kernel=kernel, C=C)\n",
    "        model.fit(train_data, train_labels)\n",
    "\n",
    "        pred_labels = model.predict(train_data)\n",
    "        train_acc = accuracy_score(train_labels, pred_labels)\n",
    "        pred_labels = model.predict(imgs_test)\n",
    "        test_acc = accuracy_score(labels_test, pred_labels)\n",
    "        print('kernel: {}    C: {}    Train acc: {:.4g}    Test acc: {:.4g}'.format(kernel, C, train_acc, test_acc))\n",
    "\n",
    "        if test_acc > best_acc:\n",
    "            best_acc = test_acc\n",
    "            best_model = model"
   ]
  },
  {
   "cell_type": "code",
   "execution_count": 7,
   "metadata": {},
   "outputs": [
    {
     "name": "stdout",
     "output_type": "stream",
     "text": [
      "SVC(C=10)\n"
     ]
    }
   ],
   "source": [
    "print(best_model)"
   ]
  },
  {
   "attachments": {},
   "cell_type": "markdown",
   "metadata": {},
   "source": [
    "### Test Best Model"
   ]
  },
  {
   "cell_type": "code",
   "execution_count": 14,
   "metadata": {},
   "outputs": [
    {
     "data": {
      "text/html": [
       "<style>#sk-container-id-1 {color: black;background-color: white;}#sk-container-id-1 pre{padding: 0;}#sk-container-id-1 div.sk-toggleable {background-color: white;}#sk-container-id-1 label.sk-toggleable__label {cursor: pointer;display: block;width: 100%;margin-bottom: 0;padding: 0.3em;box-sizing: border-box;text-align: center;}#sk-container-id-1 label.sk-toggleable__label-arrow:before {content: \"▸\";float: left;margin-right: 0.25em;color: #696969;}#sk-container-id-1 label.sk-toggleable__label-arrow:hover:before {color: black;}#sk-container-id-1 div.sk-estimator:hover label.sk-toggleable__label-arrow:before {color: black;}#sk-container-id-1 div.sk-toggleable__content {max-height: 0;max-width: 0;overflow: hidden;text-align: left;background-color: #f0f8ff;}#sk-container-id-1 div.sk-toggleable__content pre {margin: 0.2em;color: black;border-radius: 0.25em;background-color: #f0f8ff;}#sk-container-id-1 input.sk-toggleable__control:checked~div.sk-toggleable__content {max-height: 200px;max-width: 100%;overflow: auto;}#sk-container-id-1 input.sk-toggleable__control:checked~label.sk-toggleable__label-arrow:before {content: \"▾\";}#sk-container-id-1 div.sk-estimator input.sk-toggleable__control:checked~label.sk-toggleable__label {background-color: #d4ebff;}#sk-container-id-1 div.sk-label input.sk-toggleable__control:checked~label.sk-toggleable__label {background-color: #d4ebff;}#sk-container-id-1 input.sk-hidden--visually {border: 0;clip: rect(1px 1px 1px 1px);clip: rect(1px, 1px, 1px, 1px);height: 1px;margin: -1px;overflow: hidden;padding: 0;position: absolute;width: 1px;}#sk-container-id-1 div.sk-estimator {font-family: monospace;background-color: #f0f8ff;border: 1px dotted black;border-radius: 0.25em;box-sizing: border-box;margin-bottom: 0.5em;}#sk-container-id-1 div.sk-estimator:hover {background-color: #d4ebff;}#sk-container-id-1 div.sk-parallel-item::after {content: \"\";width: 100%;border-bottom: 1px solid gray;flex-grow: 1;}#sk-container-id-1 div.sk-label:hover label.sk-toggleable__label {background-color: #d4ebff;}#sk-container-id-1 div.sk-serial::before {content: \"\";position: absolute;border-left: 1px solid gray;box-sizing: border-box;top: 0;bottom: 0;left: 50%;z-index: 0;}#sk-container-id-1 div.sk-serial {display: flex;flex-direction: column;align-items: center;background-color: white;padding-right: 0.2em;padding-left: 0.2em;position: relative;}#sk-container-id-1 div.sk-item {position: relative;z-index: 1;}#sk-container-id-1 div.sk-parallel {display: flex;align-items: stretch;justify-content: center;background-color: white;position: relative;}#sk-container-id-1 div.sk-item::before, #sk-container-id-1 div.sk-parallel-item::before {content: \"\";position: absolute;border-left: 1px solid gray;box-sizing: border-box;top: 0;bottom: 0;left: 50%;z-index: -1;}#sk-container-id-1 div.sk-parallel-item {display: flex;flex-direction: column;z-index: 1;position: relative;background-color: white;}#sk-container-id-1 div.sk-parallel-item:first-child::after {align-self: flex-end;width: 50%;}#sk-container-id-1 div.sk-parallel-item:last-child::after {align-self: flex-start;width: 50%;}#sk-container-id-1 div.sk-parallel-item:only-child::after {width: 0;}#sk-container-id-1 div.sk-dashed-wrapped {border: 1px dashed gray;margin: 0 0.4em 0.5em 0.4em;box-sizing: border-box;padding-bottom: 0.4em;background-color: white;}#sk-container-id-1 div.sk-label label {font-family: monospace;font-weight: bold;display: inline-block;line-height: 1.2em;}#sk-container-id-1 div.sk-label-container {text-align: center;}#sk-container-id-1 div.sk-container {/* jupyter's `normalize.less` sets `[hidden] { display: none; }` but bootstrap.min.css set `[hidden] { display: none !important; }` so we also need the `!important` here to be able to override the default hidden behavior on the sphinx rendered scikit-learn.org. See: https://github.com/scikit-learn/scikit-learn/issues/21755 */display: inline-block !important;position: relative;}#sk-container-id-1 div.sk-text-repr-fallback {display: none;}</style><div id=\"sk-container-id-1\" class=\"sk-top-container\"><div class=\"sk-text-repr-fallback\"><pre>SVC(C=10, probability=True)</pre><b>In a Jupyter environment, please rerun this cell to show the HTML representation or trust the notebook. <br />On GitHub, the HTML representation is unable to render, please try loading this page with nbviewer.org.</b></div><div class=\"sk-container\" hidden><div class=\"sk-item\"><div class=\"sk-estimator sk-toggleable\"><input class=\"sk-toggleable__control sk-hidden--visually\" id=\"sk-estimator-id-1\" type=\"checkbox\" checked><label for=\"sk-estimator-id-1\" class=\"sk-toggleable__label sk-toggleable__label-arrow\">SVC</label><div class=\"sk-toggleable__content\"><pre>SVC(C=10, probability=True)</pre></div></div></div></div></div>"
      ],
      "text/plain": [
       "SVC(C=10, probability=True)"
      ]
     },
     "execution_count": 14,
     "metadata": {},
     "output_type": "execute_result"
    }
   ],
   "source": [
    "model = svm.SVC(C=10, probability=True)\n",
    "model.fit(train_data, train_labels)"
   ]
  },
  {
   "attachments": {},
   "cell_type": "markdown",
   "metadata": {},
   "source": [
    "mAP Curve"
   ]
  },
  {
   "cell_type": "code",
   "execution_count": 21,
   "metadata": {},
   "outputs": [
    {
     "data": {
      "text/plain": [
       "<sklearn.metrics._plot.precision_recall_curve.PrecisionRecallDisplay at 0x7f8ca852e080>"
      ]
     },
     "execution_count": 21,
     "metadata": {},
     "output_type": "execute_result"
    },
    {
     "data": {
      "image/png": "[encoded data removed]",
      "text/plain": [
       "<Figure size 640x480 with 1 Axes>"
      ]
     },
     "metadata": {},
     "output_type": "display_data"
    }
   ],
   "source": [
    "from sklearn.metrics import precision_recall_curve, PrecisionRecallDisplay\n",
    "\n",
    "prob_pred = model.predict_proba(imgs_test)[:, 1]\n",
    "PrecisionRecallDisplay.from_predictions(labels_test, prob_pred)"
   ]
  },
  {
   "attachments": {},
   "cell_type": "markdown",
   "metadata": {},
   "source": [
    "Precison & Recall"
   ]
  },
  {
   "cell_type": "code",
   "execution_count": 23,
   "metadata": {},
   "outputs": [
    {
     "name": "stdout",
     "output_type": "stream",
     "text": [
      "[Decided by mAP] Threshold: 0.4906  Precision: 0.9110   Recall: 0.9922\n",
      "[Decided Directly] Precision: 0.9151   Recall: 0.9612\n"
     ]
    }
   ],
   "source": [
    "precision, recall, thresholds = precision_recall_curve(labels_test, prob_pred, pos_label=1)\n",
    "f1 = 2 * precision * recall / (precision + recall)\n",
    "index = np.argmax(f1)\n",
    "print(f\"[Decided by mAP] Threshold: {thresholds[index]:.4f}  Precision: {precision[index]:.4f}   Recall: {recall[index]:.4f}\")\n",
    "\n",
    "from sklearn.metrics import precision_score, recall_score\n",
    "labels_pred = model.predict(imgs_test)\n",
    "print(f\"[Decided Directly] Precision: {precision_score(labels_test, labels_pred):.4f}   Recall: {recall_score(labels_test, labels_pred):.4f}\")"
   ]
  }
 ],
 "metadata": {
  "kernelspec": {
   "display_name": "base",
   "language": "python",
   "name": "python3"
  },
  "language_info": {
   "codemirror_mode": {
    "name": "ipython",
    "version": 3
   },
   "file_extension": ".py",
   "mimetype": "text/x-python",
   "name": "python",
   "nbconvert_exporter": "python",
   "pygments_lexer": "ipython3",
   "version": "3.10.9"
  },
  "orig_nbformat": 4
 },
 "nbformat": 4,
 "nbformat_minor": 2
}
